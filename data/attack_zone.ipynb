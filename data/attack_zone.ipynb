{
 "cells": [
  {
   "cell_type": "markdown",
   "id": "9794afcf",
   "metadata": {},
   "source": [
    "#### Combining Attack Angle and Zone"
   ]
  },
  {
   "cell_type": "code",
   "execution_count": 30,
   "id": "a79cb215",
   "metadata": {},
   "outputs": [],
   "source": [
    "import pandas as pd\n",
    "import os\n",
    "import numpy as np\n",
    "import seaborn as sns\n",
    "import matplotlib.pyplot as plt"
   ]
  },
  {
   "cell_type": "code",
   "execution_count": 31,
   "id": "a01c7c58",
   "metadata": {},
   "outputs": [],
   "source": [
    "os.chdir('C:/Users/dalto/OneDrive/Pictures/Documents/Projects/Coding Projects/woba modeling/data')\n",
    "df = pd.read_csv('pitch/pitch_cleaned.csv').drop(columns=['Unnamed: 0'])"
   ]
  },
  {
   "cell_type": "markdown",
   "id": "0693e989",
   "metadata": {},
   "source": [
    "#### Ideal"
   ]
  },
  {
   "cell_type": "code",
   "execution_count": 32,
   "id": "ad605b06",
   "metadata": {},
   "outputs": [
    {
     "name": "stdout",
     "output_type": "stream",
     "text": [
      "count    677102.000000\n",
      "mean          9.150100\n",
      "std          11.791634\n",
      "min         -89.757838\n",
      "25%           1.980554\n",
      "50%           9.449831\n",
      "75%          16.919260\n",
      "max          87.258474\n",
      "Name: attack_angle, dtype: float64\n",
      "-12.627364848272745\n",
      "29.56806044321247\n"
     ]
    }
   ],
   "source": [
    "print(df['attack_angle'].describe())\n",
    "print(df['attack_angle'].quantile(0.03))\n",
    "print(df['attack_angle'].quantile(0.97))"
   ]
  },
  {
   "cell_type": "code",
   "execution_count": 33,
   "id": "e6034337",
   "metadata": {},
   "outputs": [],
   "source": [
    "bin_edges = [-np.inf] + list(np.arange(-14, 29.5, 1.5)) + [np.inf]"
   ]
  },
  {
   "cell_type": "code",
   "execution_count": 34,
   "id": "4327a326",
   "metadata": {},
   "outputs": [
    {
     "name": "stderr",
     "output_type": "stream",
     "text": [
      "C:\\Users\\dalto\\AppData\\Local\\Temp\\ipykernel_28172\\229022322.py:2: FutureWarning: The default of observed=False is deprecated and will be changed to True in a future version of pandas. Pass observed=False to retain current behavior or observed=True to adopt the future default and silence this warning.\n",
      "  woba = df.groupby(['zone', 'attack_bin'])['woba_value'].mean().reset_index()\n",
      "C:\\Users\\dalto\\AppData\\Local\\Temp\\ipykernel_28172\\229022322.py:3: FutureWarning: The default of observed=False is deprecated and will be changed to True in a future version of pandas. Pass observed=False to retain current behavior or observed=True to adopt the future default and silence this warning.\n",
      "  woba_count = df.groupby(['zone', 'attack_bin']).size().reset_index()\n",
      "C:\\Users\\dalto\\AppData\\Local\\Temp\\ipykernel_28172\\229022322.py:5: FutureWarning: The default of observed=False is deprecated and will be changed to True in a future version of pandas. Pass observed=False to retain current behavior or observed=True to adopt the future default and silence this warning.\n",
      "  df['attack_bin'] =  df.groupby(['attack_bin', 'zone']).ngroup()\n"
     ]
    }
   ],
   "source": [
    "df['attack_bin'] = pd.cut(df['attack_angle'], bins=bin_edges,right=True )\n",
    "woba = df.groupby(['zone', 'attack_bin'])['woba_value'].mean().reset_index()\n",
    "woba_count = df.groupby(['zone', 'attack_bin']).size().reset_index()\n",
    "woba = woba.merge(woba_count, on = ['zone', 'attack_bin'])\n",
    "df['attack_bin'] =  df.groupby(['attack_bin', 'zone']).ngroup()"
   ]
  },
  {
   "cell_type": "code",
   "execution_count": 35,
   "id": "ae457387",
   "metadata": {},
   "outputs": [],
   "source": [
    "df.to_csv('pitch/pitch_encoded.csv', index=False)"
   ]
  }
 ],
 "metadata": {
  "kernelspec": {
   "display_name": "base",
   "language": "python",
   "name": "python3"
  },
  "language_info": {
   "codemirror_mode": {
    "name": "ipython",
    "version": 3
   },
   "file_extension": ".py",
   "mimetype": "text/x-python",
   "name": "python",
   "nbconvert_exporter": "python",
   "pygments_lexer": "ipython3",
   "version": "3.12.7"
  }
 },
 "nbformat": 4,
 "nbformat_minor": 5
}
