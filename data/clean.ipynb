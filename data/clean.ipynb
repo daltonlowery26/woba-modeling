{
 "cells": [
  {
   "cell_type": "markdown",
   "id": "9ffa10e8",
   "metadata": {},
   "source": [
    "##### Cleaning dataset for training"
   ]
  },
  {
   "cell_type": "code",
   "execution_count": null,
   "id": "552c2d30",
   "metadata": {},
   "outputs": [],
   "source": [
    "import pandas as pd\n",
    "import os\n",
    "import numpy as np\n",
    "os.chdir('C:/Users/dalto/OneDrive/Pictures/Documents/Projects/Coding Projects/woba modeling/data/pitch/')"
   ]
  },
  {
   "cell_type": "code",
   "execution_count": 5,
   "id": "c8cd885e",
   "metadata": {},
   "outputs": [],
   "source": [
    "df = pd.read_csv('pitch_23_25_w.csv')\n",
    "df1 = pd.read_csv('pitch_18_23_w.csv')\n",
    "df2 = pd.read_csv('pitch_23_w.csv')\n",
    "df3 = pd.read_csv('pitch_25_w.csv')"
   ]
  },
  {
   "cell_type": "markdown",
   "id": "3bd38218",
   "metadata": {},
   "source": [
    "#### statcast name cleaning"
   ]
  },
  {
   "cell_type": "code",
   "execution_count": 6,
   "id": "c4f2d150",
   "metadata": {},
   "outputs": [
    {
     "name": "stderr",
     "output_type": "stream",
     "text": [
      "<>:16: SyntaxWarning: invalid escape sequence '\\s'\n",
      "<>:16: SyntaxWarning: invalid escape sequence '\\s'\n",
      "C:\\Users\\dalto\\AppData\\Local\\Temp\\ipykernel_14296\\2225678073.py:16: SyntaxWarning: invalid escape sequence '\\s'\n",
      "  df[name_col] = df[name_col].str.replace('[^a-z ]', '', regex=True).str.replace('\\s+', ' ', regex=True)\n"
     ]
    }
   ],
   "source": [
    "import unicodedata\n",
    "def clean_names(df, name_col):\n",
    "    # Make a copy to avoid modifying the original DataFrame\n",
    "    df = df.copy()\n",
    "    \n",
    "    # Convert to lowercase and remove leading/trailing whitespace\n",
    "    df[name_col] = df[name_col].str.lower().str.strip()\n",
    "    \n",
    "    # Remove accents\n",
    "    df[name_col] = df[name_col].apply(lambda x: ''.join(\n",
    "        c for c in unicodedata.normalize('NFKD', str(x))\n",
    "        if not unicodedata.combining(c)\n",
    "    ))\n",
    "    \n",
    "    # Keep only letters and replace multiple spaces with single space\n",
    "    df[name_col] = df[name_col].str.replace('[^a-z ]', '', regex=True).str.replace('\\s+', ' ', regex=True)\n",
    "    \n",
    "    return df"
   ]
  },
  {
   "cell_type": "markdown",
   "id": "89c4a258",
   "metadata": {},
   "source": [
    "##### merge"
   ]
  },
  {
   "cell_type": "code",
   "execution_count": 7,
   "id": "d443030e",
   "metadata": {},
   "outputs": [],
   "source": [
    "df = pd.concat([df, df1], ignore_index=True)\n",
    "df = pd.concat([df, df2], ignore_index=True)\n",
    "df = pd.concat([df, df3], ignore_index=True)"
   ]
  },
  {
   "cell_type": "markdown",
   "id": "eb6189a8",
   "metadata": {},
   "source": [
    "##### Spray Angle"
   ]
  },
  {
   "cell_type": "code",
   "execution_count": 8,
   "id": "5b3b0cc6",
   "metadata": {},
   "outputs": [],
   "source": [
    "spray_radian = np.arctan((df['hc_x'] - 125.42) / (198.27 - df['hc_y'])) # calcuate spray angle by setting plate as origin calcaluating angle from opp over adj\n",
    "df['spray_angle'] = spray_radian * 180 / np.pi * .75"
   ]
  },
  {
   "cell_type": "markdown",
   "id": "280d132f",
   "metadata": {},
   "source": [
    "##### only select relevant features based on project aims"
   ]
  },
  {
   "cell_type": "code",
   "execution_count": 9,
   "id": "99d71cb3",
   "metadata": {},
   "outputs": [],
   "source": [
    "df['year'] = pd.to_datetime(df['game_date'])\n",
    "df = df[['year', 'description', 'batter', 'woba_value', 'zone', 'b_stands', 'launch_speed', 'launch_angle', 'swing_path_tilt', 'attack_angle', 'attack_direction', 'spray_angle', 'bat_speed', 'swing_length', 'release_speed']]"
   ]
  },
  {
   "cell_type": "markdown",
   "id": "b34e4b3c",
   "metadata": {},
   "source": [
    "##### map for catagorical feature"
   ]
  },
  {
   "cell_type": "code",
   "execution_count": 10,
   "id": "c3b94f50",
   "metadata": {},
   "outputs": [],
   "source": [
    "df = df[df['zone'].notna()]\n",
    "df['zone'] = df['zone'].astype(int)"
   ]
  },
  {
   "cell_type": "markdown",
   "id": "adf1fa7c",
   "metadata": {},
   "source": [
    "##### making it so pull is always positive"
   ]
  },
  {
   "cell_type": "code",
   "execution_count": 11,
   "id": "b5b12ec5",
   "metadata": {},
   "outputs": [],
   "source": [
    "df.loc[df['b_stands'] == 'R', 'attack_direction'] *= -1\n",
    "df.loc[df['b_stands'] == 'R', 'spray_angle'] *= -1"
   ]
  },
  {
   "cell_type": "markdown",
   "id": "34a1023c",
   "metadata": {},
   "source": [
    "##### export"
   ]
  },
  {
   "cell_type": "code",
   "execution_count": 12,
   "id": "0eddc8be",
   "metadata": {},
   "outputs": [],
   "source": [
    "df.to_csv('pitch_cleaned.csv')"
   ]
  }
 ],
 "metadata": {
  "kernelspec": {
   "display_name": "base",
   "language": "python",
   "name": "python3"
  },
  "language_info": {
   "codemirror_mode": {
    "name": "ipython",
    "version": 3
   },
   "file_extension": ".py",
   "mimetype": "text/x-python",
   "name": "python",
   "nbconvert_exporter": "python",
   "pygments_lexer": "ipython3",
   "version": "3.12.7"
  }
 },
 "nbformat": 4,
 "nbformat_minor": 5
}
