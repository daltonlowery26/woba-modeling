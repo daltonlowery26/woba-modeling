{
 "cells": [
  {
   "cell_type": "markdown",
   "id": "9ffa10e8",
   "metadata": {},
   "source": [
    "##### Cleaning dataset for training"
   ]
  },
  {
   "cell_type": "code",
   "execution_count": 1,
   "id": "552c2d30",
   "metadata": {},
   "outputs": [],
   "source": [
    "import pandas as pd\n",
    "import os\n",
    "\n",
    "os.chdir('C:/Users/dalto/OneDrive/Pictures/Documents/Projects/Coding Projects/woba modeling/data/')\n",
    "df = pd.read_csv('pitch_23_25_w.csv')"
   ]
  },
  {
   "cell_type": "markdown",
   "id": "280d132f",
   "metadata": {},
   "source": [
    "##### only select relevant features based on project aims"
   ]
  },
  {
   "cell_type": "code",
   "execution_count": 2,
   "id": "99d71cb3",
   "metadata": {},
   "outputs": [],
   "source": [
    "df['year'] = pd.to_datetime(df['game_date']).dt.year\n",
    "df = df[['year', 'description', 'batter', 'woba_value', 'zone', 'b_stands', 'launch_speed', 'launch_angle', 'swing_path_tilt', 'attack_angle', 'attack_direction']]"
   ]
  },
  {
   "cell_type": "markdown",
   "id": "bbb8a98e",
   "metadata": {},
   "source": [
    "##### drop any na's in 2023 bc bat tracking"
   ]
  },
  {
   "cell_type": "code",
   "execution_count": 3,
   "id": "48631032",
   "metadata": {},
   "outputs": [],
   "source": [
    "df = df[~((df['year'] == 2023) & (df.isna().any(axis=1)))]"
   ]
  },
  {
   "cell_type": "markdown",
   "id": "b34e4b3c",
   "metadata": {},
   "source": [
    "##### map for catagorical feature"
   ]
  },
  {
   "cell_type": "code",
   "execution_count": 4,
   "id": "c3b94f50",
   "metadata": {},
   "outputs": [],
   "source": [
    "df = df[df['zone'].notna()]\n",
    "df['zone'] = df['zone'].astype(int)"
   ]
  },
  {
   "cell_type": "markdown",
   "id": "adf1fa7c",
   "metadata": {},
   "source": [
    "swing path tilt"
   ]
  },
  {
   "cell_type": "code",
   "execution_count": 5,
   "id": "b5b12ec5",
   "metadata": {},
   "outputs": [],
   "source": [
    "df.loc[df['b_stands'] == 'R', 'attack_direction'] *= -1"
   ]
  },
  {
   "cell_type": "markdown",
   "id": "0c62c498",
   "metadata": {},
   "source": [
    "##### handle the missing vars"
   ]
  },
  {
   "cell_type": "markdown",
   "id": "34a1023c",
   "metadata": {},
   "source": [
    "##### export"
   ]
  },
  {
   "cell_type": "code",
   "execution_count": 6,
   "id": "0eddc8be",
   "metadata": {},
   "outputs": [],
   "source": [
    "df.to_csv('pitch_cleaned.csv')"
   ]
  }
 ],
 "metadata": {
  "kernelspec": {
   "display_name": "base",
   "language": "python",
   "name": "python3"
  },
  "language_info": {
   "codemirror_mode": {
    "name": "ipython",
    "version": 3
   },
   "file_extension": ".py",
   "mimetype": "text/x-python",
   "name": "python",
   "nbconvert_exporter": "python",
   "pygments_lexer": "ipython3",
   "version": "3.12.7"
  }
 },
 "nbformat": 4,
 "nbformat_minor": 5
}
