{
 "cells": [
  {
   "cell_type": "markdown",
   "id": "5260f557",
   "metadata": {},
   "source": [
    "#### Using both models because of missing data"
   ]
  },
  {
   "cell_type": "code",
   "execution_count": null,
   "id": "8610500e",
   "metadata": {},
   "outputs": [],
   "source": [
    "import pandas as pd\n",
    "import os\n",
    "import numpy as np"
   ]
  }
 ],
 "metadata": {
  "kernelspec": {
   "display_name": "base",
   "language": "python",
   "name": "python3"
  },
  "language_info": {
   "name": "python",
   "version": "3.12.7"
  }
 },
 "nbformat": 4,
 "nbformat_minor": 5
}
