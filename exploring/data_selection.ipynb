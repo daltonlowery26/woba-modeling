{
 "cells": [
  {
   "cell_type": "markdown",
   "id": "41ff5856",
   "metadata": {},
   "source": [
    "#### Exploring Which Dataset to Use"
   ]
  },
  {
   "cell_type": "code",
   "execution_count": 1,
   "id": "36142e2f",
   "metadata": {},
   "outputs": [],
   "source": [
    "import pandas as pd\n",
    "import os\n",
    "\n",
    "os.chdir('C:/Users/dalto/OneDrive/Pictures/Documents/Projects/Coding Projects/woba modeling/data/')"
   ]
  },
  {
   "cell_type": "markdown",
   "id": "46f90a1f",
   "metadata": {},
   "source": [
    "#### Load Data"
   ]
  },
  {
   "cell_type": "code",
   "execution_count": 2,
   "id": "bfb47027",
   "metadata": {},
   "outputs": [],
   "source": [
    "cubic_woba = pd.read_csv('sim_results/cubic_wobacon_23_25.csv')\n",
    "linear_woba = pd.read_csv('sim_results/linear_wobacon_23_25.csv')\n",
    "woba = pd.read_csv('pitch/pitch_cleaned.csv')\n",
    "wobacon = pd.read_csv('pitch/xwobacon.csv')"
   ]
  },
  {
   "cell_type": "markdown",
   "id": "ece7e506",
   "metadata": {},
   "source": [
    "#### Correlations"
   ]
  },
  {
   "cell_type": "code",
   "execution_count": 3,
   "id": "a9667490",
   "metadata": {},
   "outputs": [],
   "source": [
    "woba = woba[woba['description'] == 'hit_into_play']\n",
    "woba = woba.groupby(['batter', 'year'])['woba_value'].mean()\n",
    "woba = woba.reset_index()"
   ]
  },
  {
   "cell_type": "code",
   "execution_count": 4,
   "id": "af699762",
   "metadata": {},
   "outputs": [],
   "source": [
    "merged = cubic_woba.merge(linear_woba[['name', 'year', 'ev_dir', 'bat_tracking']], on=['name', 'year'], suffixes=('_cubic', '_linear'))\n",
    "merged = merged.merge(woba, left_on=['name', 'year'], right_on=['batter', 'year']).drop(columns=['Unnamed: 0'])\n",
    "merged = merged.merge(wobacon[['name', 'year', 'wobacon', 'xwobacon']], on=['name', 'year'], how='left')"
   ]
  },
  {
   "cell_type": "markdown",
   "id": "bb8f68be",
   "metadata": {},
   "source": [
    "stability"
   ]
  },
  {
   "cell_type": "code",
   "execution_count": 5,
   "id": "14192578",
   "metadata": {},
   "outputs": [
    {
     "name": "stdout",
     "output_type": "stream",
     "text": [
      "{'ev_dir_cubic': 0.4462042213422614, 'bat_tracking_cubic': 0.693556253216255, 'ev_dir_linear': 0.44616435913749264, 'bat_tracking_linear': 0.6936838362839927, 'wobacon': 0.33079515401444803, 'xwobacon': 0.5354507754157568}\n"
     ]
    }
   ],
   "source": [
    "stats = ['ev_dir_cubic', 'bat_tracking_cubic', 'ev_dir_linear', 'bat_tracking_linear','wobacon', 'xwobacon']\n",
    "corr_next = merged.copy()\n",
    "\n",
    "for stat in stats:\n",
    "    corr_next[f'{stat}_next'] = corr_next.groupby('name')[stat].shift(-1)\n",
    "\n",
    "corr_next = corr_next.dropna(subset=[f'{stat}_next' for stat in stats])\n",
    "\n",
    "corrs = {}\n",
    "for stat in stats:\n",
    "    corrs[stat] = corr_next[[stat, f'{stat}_next']].corr().iloc[0, 1]\n",
    "\n",
    "print(corrs)"
   ]
  },
  {
   "cell_type": "markdown",
   "id": "ec533830",
   "metadata": {},
   "source": [
    "dataset to next year wobacon"
   ]
  },
  {
   "cell_type": "code",
   "execution_count": 6,
   "id": "3deb9927",
   "metadata": {},
   "outputs": [
    {
     "name": "stdout",
     "output_type": "stream",
     "text": [
      "{'ev_dir_cubic': 0.35933814206948406, 'bat_tracking_cubic': 0.4294875807608976, 'ev_dir_linear': 0.35932497698322075, 'bat_tracking_linear': 0.42945808364052696, 'wobacon': 0.33079515401444803, 'xwobacon': 0.39818068115771976}\n"
     ]
    }
   ],
   "source": [
    "stats = ['ev_dir_cubic', 'bat_tracking_cubic', 'ev_dir_linear', 'bat_tracking_linear','wobacon', 'xwobacon']\n",
    "prev_stat_next_woba_corr = {}\n",
    "for stat in stats:\n",
    "    prev_stat_next_woba_corr[stat] = corr_next[[stat, 'wobacon_next']].corr().iloc[0, 1]\n",
    "\n",
    "print(prev_stat_next_woba_corr)"
   ]
  },
  {
   "cell_type": "markdown",
   "id": "23886df1",
   "metadata": {},
   "source": [
    "2024 stat to 2025 wobacon"
   ]
  },
  {
   "cell_type": "code",
   "execution_count": 7,
   "id": "2e3e83da",
   "metadata": {},
   "outputs": [
    {
     "name": "stdout",
     "output_type": "stream",
     "text": [
      "{'ev_dir_cubic': 0.35299366623190487, 'bat_tracking_cubic': 0.4246026012677284, 'ev_dir_linear': 0.35297902322049973, 'bat_tracking_linear': 0.42452271359198246, 'wobacon': 0.3379877382103016, 'xwobacon': 0.3746369132171138}\n"
     ]
    }
   ],
   "source": [
    "stats = ['ev_dir_cubic', 'bat_tracking_cubic', 'ev_dir_linear', 'bat_tracking_linear','wobacon', 'xwobacon']\n",
    "stat_2024_to_2025_woba_corr = {}\n",
    "df_2024 = corr_next[corr_next['year'] == 2024]\n",
    "for stat in stats:\n",
    "    stat_2024_to_2025_woba_corr[stat] = df_2024[[stat, 'wobacon_next']].corr().iloc[0, 1]\n",
    "\n",
    "print(stat_2024_to_2025_woba_corr)"
   ]
  }
 ],
 "metadata": {
  "kernelspec": {
   "display_name": "base",
   "language": "python",
   "name": "python3"
  },
  "language_info": {
   "codemirror_mode": {
    "name": "ipython",
    "version": 3
   },
   "file_extension": ".py",
   "mimetype": "text/x-python",
   "name": "python",
   "nbconvert_exporter": "python",
   "pygments_lexer": "ipython3",
   "version": "3.12.7"
  }
 },
 "nbformat": 4,
 "nbformat_minor": 5
}
