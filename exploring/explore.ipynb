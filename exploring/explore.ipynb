{
 "cells": [
  {
   "cell_type": "markdown",
   "id": "a274c30c",
   "metadata": {},
   "source": [
    "Exploring realationships"
   ]
  },
  {
   "cell_type": "code",
   "execution_count": 24,
   "id": "13067a9e",
   "metadata": {},
   "outputs": [],
   "source": [
    "import pandas as pd\n",
    "import os\n",
    "import matplotlib.pyplot as plt\n",
    "\n",
    "os.chdir('C:/Users/dalto/OneDrive/Pictures/Documents/Projects/Coding Projects/woba modeling/data/')\n",
    "df = pd.read_csv('pitch/pitch_cleaned.csv')\n",
    "df['year'] = pd.to_datetime(df['year']).dt.year"
   ]
  },
  {
   "cell_type": "code",
   "execution_count": 32,
   "id": "bb254c18",
   "metadata": {},
   "outputs": [],
   "source": [
    "correaltions = pd.DataFrame()"
   ]
  },
  {
   "cell_type": "markdown",
   "id": "c35e553f",
   "metadata": {},
   "source": [
    "##### attack angle and swing path tilt"
   ]
  },
  {
   "cell_type": "code",
   "execution_count": 33,
   "id": "e851ad9c",
   "metadata": {},
   "outputs": [
    {
     "name": "stdout",
     "output_type": "stream",
     "text": [
      "0.02791211680449959\n"
     ]
    }
   ],
   "source": [
    "print( (df['attack_angle'].corr(df['swing_path_tilt'])) )"
   ]
  },
  {
   "cell_type": "markdown",
   "id": "724372cb",
   "metadata": {},
   "source": [
    "##### spray angle"
   ]
  },
  {
   "cell_type": "code",
   "execution_count": 27,
   "id": "eff5cdd0",
   "metadata": {},
   "outputs": [
    {
     "name": "stdout",
     "output_type": "stream",
     "text": [
      "0.021769521493102365\n"
     ]
    }
   ],
   "source": [
    "stats = ['spray_angle']\n",
    "df_player = df.groupby(['batter', 'year'])['spray_angle'].mean()\n",
    "df_player = df_player.reset_index()\n",
    "for stat in stats:\n",
    "    df_player[f'{stat}_next'] = df_player.groupby('batter')[stat].shift(-1)\n",
    "print((df_player['spray_angle'].corr(df_player['spray_angle_next']))**2)"
   ]
  },
  {
   "cell_type": "markdown",
   "id": "e0c883b4",
   "metadata": {},
   "source": [
    "##### Attack Direction"
   ]
  },
  {
   "cell_type": "code",
   "execution_count": 41,
   "id": "bfbeedb4",
   "metadata": {},
   "outputs": [
    {
     "name": "stdout",
     "output_type": "stream",
     "text": [
      "0.34037770487312885\n"
     ]
    }
   ],
   "source": [
    "stats = ['attack_direction']\n",
    "df_player = df.groupby(['batter', 'year'])['attack_direction'].mean()\n",
    "df_player = df_player.reset_index()\n",
    "for stat in stats:\n",
    "    df_player[f'{stat}_next'] = df_player.groupby('batter')[stat].shift(-1)\n",
    "print((df_player['attack_direction'].corr(df_player['attack_direction_next']))**2)"
   ]
  },
  {
   "cell_type": "markdown",
   "id": "b750b9e6",
   "metadata": {},
   "source": [
    "##### Launch Angle"
   ]
  },
  {
   "cell_type": "code",
   "execution_count": 39,
   "id": "fad1546e",
   "metadata": {},
   "outputs": [
    {
     "name": "stdout",
     "output_type": "stream",
     "text": [
      "0.061251456121136826\n"
     ]
    }
   ],
   "source": [
    "stats = ['launch_angle']\n",
    "df_player = df.groupby(['batter', 'year'])['launch_angle'].mean()\n",
    "df_player = df_player.reset_index()\n",
    "for stat in stats:\n",
    "    df_player[f'{stat}_next'] = df_player.groupby('batter')[stat].shift(-1)\n",
    "print((df_player['launch_angle'].corr(df_player['launch_angle_next']))**2)"
   ]
  },
  {
   "cell_type": "markdown",
   "id": "2247e9cf",
   "metadata": {},
   "source": [
    "##### Attack Angle"
   ]
  },
  {
   "cell_type": "code",
   "execution_count": 38,
   "id": "befb1dcb",
   "metadata": {},
   "outputs": [
    {
     "name": "stdout",
     "output_type": "stream",
     "text": [
      "0.4772186826425324\n"
     ]
    }
   ],
   "source": [
    "stats = ['attack_angle']\n",
    "df_player = df.groupby(['batter', 'year'])['attack_angle'].mean()\n",
    "df_player = df_player.reset_index()\n",
    "for stat in stats:\n",
    "    df_player[f'{stat}_next'] = df_player.groupby('batter')[stat].shift(-1)\n",
    "print((df_player['attack_angle'].corr(df_player['attack_angle_next']))**2)"
   ]
  },
  {
   "cell_type": "markdown",
   "id": "73cc718d",
   "metadata": {},
   "source": [
    "##### swing path tilt"
   ]
  },
  {
   "cell_type": "code",
   "execution_count": 40,
   "id": "264d3e6b",
   "metadata": {},
   "outputs": [
    {
     "name": "stdout",
     "output_type": "stream",
     "text": [
      "0.7784026330021219\n"
     ]
    }
   ],
   "source": [
    "stats = ['swing_path_tilt']\n",
    "df_player = df.groupby(['batter', 'year'])['swing_path_tilt'].mean()\n",
    "df_player = df_player.reset_index()\n",
    "for stat in stats:\n",
    "    df_player[f'{stat}_next'] = df_player.groupby('batter')[stat].shift(-1)\n",
    "print((df_player['swing_path_tilt'].corr(df_player['swing_path_tilt_next']))**2)"
   ]
  },
  {
   "cell_type": "markdown",
   "id": "edadf73e",
   "metadata": {},
   "source": [
    "##### components of launch angle"
   ]
  },
  {
   "cell_type": "code",
   "execution_count": 16,
   "id": "b5d0d429",
   "metadata": {},
   "outputs": [
    {
     "name": "stdout",
     "output_type": "stream",
     "text": [
      "attack angle and launch angle: \n",
      " -0.05641526190511764\n"
     ]
    }
   ],
   "source": [
    "print(f\"attack angle and launch angle: \\n {df['attack_angle'].corr(df['launch_angle'])}\")"
   ]
  },
  {
   "cell_type": "code",
   "execution_count": 17,
   "id": "9d96fa15",
   "metadata": {},
   "outputs": [
    {
     "name": "stdout",
     "output_type": "stream",
     "text": [
      "tilt and launch angle: \n",
      " -0.10333527517994846\n"
     ]
    }
   ],
   "source": [
    "print(f\"tilt and launch angle: \\n {df['swing_path_tilt'].corr(df['launch_angle'])}\")"
   ]
  },
  {
   "cell_type": "code",
   "execution_count": null,
   "id": "0232da62",
   "metadata": {},
   "outputs": [
    {
     "name": "stdout",
     "output_type": "stream",
     "text": [
      "launch by zone: zone\n",
      "1.0     30.015198\n",
      "2.0     31.592482\n",
      "3.0     30.391574\n",
      "4.0     18.850360\n",
      "5.0     22.097096\n",
      "6.0     20.437808\n",
      "7.0      5.219562\n",
      "8.0      8.001714\n",
      "9.0      6.498550\n",
      "11.0    24.158638\n",
      "12.0    25.874798\n",
      "13.0    -0.655056\n",
      "14.0     0.573798\n",
      "Name: launch_angle, dtype: float64\n"
     ]
    }
   ],
   "source": [
    "print(f\"launch by zone: {df.groupby('zone')['launch_angle'].mean()}\")"
   ]
  },
  {
   "cell_type": "markdown",
   "id": "e70654a6",
   "metadata": {},
   "source": [
    "##### Attack Angle and Sucess Within Pitch Zone"
   ]
  },
  {
   "cell_type": "code",
   "execution_count": 19,
   "id": "fcb4ecd4",
   "metadata": {},
   "outputs": [
    {
     "name": "stdout",
     "output_type": "stream",
     "text": [
      "Mean wOBA for attack angles 10-18 by zone:\n",
      " zone\n",
      "1.0     0.324301\n",
      "2.0     0.357594\n",
      "3.0     0.319076\n",
      "4.0     0.396266\n",
      "5.0     0.461759\n",
      "6.0     0.376828\n",
      "7.0     0.356833\n",
      "8.0     0.433572\n",
      "9.0     0.333051\n",
      "11.0    0.235476\n",
      "12.0    0.219101\n",
      "13.0    0.197548\n",
      "14.0    0.174859\n",
      "Name: woba_value, dtype: float64\n",
      "\n",
      "Mean wOBA for attack angles outside 10-18 by zone:\n",
      " zone\n",
      "1.0     0.267823\n",
      "2.0     0.295769\n",
      "3.0     0.276021\n",
      "4.0     0.338485\n",
      "5.0     0.377850\n",
      "6.0     0.336782\n",
      "7.0     0.306116\n",
      "8.0     0.343843\n",
      "9.0     0.288238\n",
      "11.0    0.157819\n",
      "12.0    0.170359\n",
      "13.0    0.158631\n",
      "14.0    0.134361\n",
      "Name: woba_value, dtype: float64\n"
     ]
    }
   ],
   "source": [
    "zone_attack_woba_corr = df.copy()\n",
    "zone_attack_woba_corr = zone_attack_woba_corr[(zone_attack_woba_corr['woba_value'] != 0) | (zone_attack_woba_corr['woba_value'] != 0.7) ]\n",
    "woba_10_18 = zone_attack_woba_corr[(zone_attack_woba_corr['attack_angle'] >= 10) & (zone_attack_woba_corr['attack_angle'] <= 18)].groupby('zone')['woba_value'].mean()\n",
    "woba_rest = zone_attack_woba_corr[(zone_attack_woba_corr['attack_angle'] < 10) | (zone_attack_woba_corr['attack_angle'] > 18)].groupby('zone')['woba_value'].mean()\n",
    "\n",
    "print(\"Mean wOBA for attack angles 10-18 by zone:\\n\", woba_10_18)\n",
    "print(\"\\nMean wOBA for attack angles outside 10-18 by zone:\\n\", woba_rest)"
   ]
  },
  {
   "cell_type": "markdown",
   "id": "b1a053f5",
   "metadata": {},
   "source": [
    "##### Stickness"
   ]
  },
  {
   "cell_type": "code",
   "execution_count": 20,
   "id": "5d45d252",
   "metadata": {},
   "outputs": [
    {
     "name": "stdout",
     "output_type": "stream",
     "text": [
      "Correlation between previous year launch angle and current year launch angle: 0.3931515471691535\n",
      "Correlation between previous year attack angle and current year attack angle: 0.6901143023947206\n"
     ]
    }
   ],
   "source": [
    "player_year_means = df.groupby(['batter', 'year'])[['launch_angle', 'attack_angle']].mean().reset_index()\n",
    "player_year_means = player_year_means.sort_values(['batter', 'year'])\n",
    "player_year_means['prev_attack_angle'] = player_year_means.groupby('batter')['attack_angle'].shift(1)\n",
    "player_year_means['prev_launch_angle'] = player_year_means.groupby('batter')['launch_angle'].shift(1)\n",
    "player_year_means = player_year_means.dropna(subset=['prev_attack_angle', 'prev_launch_angle'])\n",
    "corr_attack_launch = player_year_means['prev_launch_angle'].corr(player_year_means['launch_angle'])\n",
    "corr_attack_attack = player_year_means['prev_attack_angle'].corr(player_year_means['attack_angle'])\n",
    "\n",
    "print(f\"Correlation between previous year launch angle and current year launch angle: {corr_attack_launch}\")\n",
    "print(f\"Correlation between previous year attack angle and current year attack angle: {corr_attack_attack}\")"
   ]
  },
  {
   "cell_type": "markdown",
   "id": "9a48be31",
   "metadata": {},
   "source": [
    "##### Amount of pitches in sample in each zone"
   ]
  },
  {
   "cell_type": "code",
   "execution_count": 21,
   "id": "897b6919",
   "metadata": {},
   "outputs": [
    {
     "name": "stdout",
     "output_type": "stream",
     "text": [
      "zone\n",
      "1.0      81548\n",
      "2.0      97665\n",
      "3.0      72294\n",
      "4.0     113235\n",
      "5.0     142473\n",
      "6.0     114477\n",
      "7.0      90391\n",
      "8.0     121310\n",
      "9.0     105868\n",
      "11.0    209948\n",
      "12.0    158371\n",
      "13.0    236077\n",
      "14.0    351454\n",
      "Name: count, dtype: int64\n"
     ]
    }
   ],
   "source": [
    "zone_counts = df['zone'].value_counts().sort_index()\n",
    "print(zone_counts)"
   ]
  }
 ],
 "metadata": {
  "kernelspec": {
   "display_name": "base",
   "language": "python",
   "name": "python3"
  },
  "language_info": {
   "codemirror_mode": {
    "name": "ipython",
    "version": 3
   },
   "file_extension": ".py",
   "mimetype": "text/x-python",
   "name": "python",
   "nbconvert_exporter": "python",
   "pygments_lexer": "ipython3",
   "version": "3.12.7"
  }
 },
 "nbformat": 4,
 "nbformat_minor": 5
}
