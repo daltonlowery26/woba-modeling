{
 "cells": [
  {
   "cell_type": "markdown",
   "id": "268a609c",
   "metadata": {},
   "source": [
    "#### Stat Distribution"
   ]
  },
  {
   "cell_type": "code",
   "execution_count": 5,
   "id": "59a189f6",
   "metadata": {},
   "outputs": [],
   "source": [
    "import pandas as pd\n",
    "import os \n",
    "import numpy as np\n",
    "\n",
    "os.chdir('C:/Users/dalto/OneDrive/Pictures/Documents/Projects/Coding Projects/woba modeling/data/')"
   ]
  },
  {
   "cell_type": "code",
   "execution_count": 6,
   "id": "9c5dadc2",
   "metadata": {},
   "outputs": [],
   "source": [
    "woba = pd.read_csv('pitch/wobacon.csv')\n",
    "full = pd.read_csv('sim_results/full_wobacon_23_25.csv')"
   ]
  },
  {
   "cell_type": "code",
   "execution_count": 8,
   "id": "b043e8ac",
   "metadata": {},
   "outputs": [
    {
     "name": "stdout",
     "output_type": "stream",
     "text": [
      "      count      mean       std    min      25%     50%      75%    max\n",
      "year                                                                   \n",
      "2015  410.0  0.363612  0.059026  0.199  0.32525  0.3670  0.39675  0.583\n",
      "2016  416.0  0.367998  0.057870  0.205  0.32500  0.3660  0.40900  0.547\n",
      "2017  412.0  0.374517  0.059493  0.207  0.33375  0.3675  0.41225  0.600\n",
      "2018  416.0  0.369512  0.059521  0.220  0.32875  0.3675  0.40425  0.596\n",
      "2019  435.0  0.378478  0.061411  0.201  0.33450  0.3760  0.41800  0.644\n",
      "2020  256.0  0.386824  0.062345  0.235  0.34075  0.3800  0.42600  0.548\n",
      "2021  437.0  0.369941  0.060368  0.225  0.33100  0.3610  0.40800  0.617\n",
      "2022  437.0  0.358668  0.059152  0.203  0.32100  0.3560  0.39700  0.602\n",
      "2023  431.0  0.370074  0.061373  0.184  0.32650  0.3660  0.40900  0.579\n",
      "2024  426.0  0.359822  0.057869  0.217  0.32225  0.3530  0.39600  0.617\n",
      "2025  334.0  0.367290  0.062359  0.203  0.32425  0.3630  0.40400  0.651\n",
      "year\n",
      "2015    0.2930\n",
      "2016    0.2930\n",
      "2017    0.3061\n",
      "2018    0.2980\n",
      "2019    0.3058\n",
      "2020    0.3165\n",
      "2021    0.2960\n",
      "2022    0.2856\n",
      "2023    0.2970\n",
      "2024    0.2945\n",
      "2025    0.2943\n",
      "Name: wobacon, dtype: float64\n"
     ]
    }
   ],
   "source": [
    "woba = woba[woba['pa'] > 125]\n",
    "print(woba.groupby('year')['wobacon'].describe())\n",
    "print(woba.groupby('year')['wobacon'].quantile(.1))"
   ]
  },
  {
   "cell_type": "code",
   "execution_count": 23,
   "id": "fcb8a347",
   "metadata": {},
   "outputs": [],
   "source": [
    "target_p25 = .325\n",
    "target_p75 = .400\n",
    "\n",
    "\n",
    "original_p25 = full['monte'].quantile(0.25)\n",
    "original_p75 = full['monte'].quantile(0.75)\n",
    "\n",
    "slope = (target_p75 - target_p25) / (original_p75 - original_p25)\n",
    "intercept = target_p25 - slope * original_p25\n",
    "\n",
    "full['monte'] = slope * full['monte'] + intercept"
   ]
  },
  {
   "cell_type": "code",
   "execution_count": 24,
   "id": "45f898f9",
   "metadata": {},
   "outputs": [],
   "source": [
    "full.to_csv('transforms/wobacon.csv', index=False)"
   ]
  }
 ],
 "metadata": {
  "kernelspec": {
   "display_name": "base",
   "language": "python",
   "name": "python3"
  },
  "language_info": {
   "codemirror_mode": {
    "name": "ipython",
    "version": 3
   },
   "file_extension": ".py",
   "mimetype": "text/x-python",
   "name": "python",
   "nbconvert_exporter": "python",
   "pygments_lexer": "ipython3",
   "version": "3.12.7"
  }
 },
 "nbformat": 4,
 "nbformat_minor": 5
}
