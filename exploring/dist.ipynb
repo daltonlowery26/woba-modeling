{
 "cells": [
  {
   "cell_type": "markdown",
   "id": "268a609c",
   "metadata": {},
   "source": [
    "#### Stat Distribution"
   ]
  },
  {
   "cell_type": "code",
   "execution_count": 20,
   "id": "59a189f6",
   "metadata": {},
   "outputs": [],
   "source": [
    "import pandas as pd\n",
    "import os \n",
    "import numpy as np\n",
    "\n",
    "os.chdir('C:/Users/dalto/OneDrive/Pictures/Documents/Projects/Coding Projects/woba modeling/data/')"
   ]
  },
  {
   "cell_type": "code",
   "execution_count": 21,
   "id": "9c5dadc2",
   "metadata": {},
   "outputs": [],
   "source": [
    "woba = pd.read_csv('pitch/wobacon.csv')\n",
    "full = pd.read_csv('sim_results/full_wobacon_23_25.csv')"
   ]
  },
  {
   "cell_type": "code",
   "execution_count": 22,
   "id": "b043e8ac",
   "metadata": {},
   "outputs": [
    {
     "name": "stdout",
     "output_type": "stream",
     "text": [
      "      count      mean       std    min      25%     50%     75%    max\n",
      "year                                                                  \n",
      "2015  389.0  0.365769  0.057078  0.241  0.32800  0.3670  0.3990  0.583\n",
      "2016  393.0  0.371476  0.055417  0.236  0.33000  0.3690  0.4090  0.547\n",
      "2017  390.0  0.376797  0.057210  0.237  0.33600  0.3690  0.4140  0.600\n",
      "2018  392.0  0.370952  0.058383  0.228  0.32975  0.3685  0.4060  0.596\n",
      "2019  411.0  0.381406  0.059488  0.222  0.33750  0.3800  0.4190  0.644\n",
      "2020  201.0  0.393502  0.062043  0.246  0.34800  0.3900  0.4320  0.548\n",
      "2021  409.0  0.370707  0.058490  0.232  0.33400  0.3610  0.4080  0.567\n",
      "2022  417.0  0.359878  0.058429  0.203  0.32200  0.3570  0.3980  0.602\n",
      "2023  404.0  0.372688  0.059625  0.192  0.32900  0.3690  0.4110  0.557\n",
      "2024  410.0  0.361239  0.057412  0.217  0.32325  0.3550  0.3970  0.617\n",
      "2025  300.0  0.370020  0.061904  0.221  0.32500  0.3640  0.4075  0.651\n"
     ]
    }
   ],
   "source": [
    "woba = woba[woba['pa'] > 150]\n",
    "print(woba.groupby('year')['wobacon'].describe())"
   ]
  },
  {
   "cell_type": "code",
   "execution_count": 23,
   "id": "fcb8a347",
   "metadata": {},
   "outputs": [],
   "source": [
    "target_p25 = .325\n",
    "target_p75 = .400\n",
    "\n",
    "\n",
    "original_p25 = full['monte'].quantile(0.25)\n",
    "original_p75 = full['monte'].quantile(0.75)\n",
    "\n",
    "slope = (target_p75 - target_p25) / (original_p75 - original_p25)\n",
    "intercept = target_p25 - slope * original_p25\n",
    "\n",
    "full['monte'] = slope * full['monte'] + intercept"
   ]
  },
  {
   "cell_type": "code",
   "execution_count": 24,
   "id": "45f898f9",
   "metadata": {},
   "outputs": [],
   "source": [
    "full.to_csv('transforms/wobacon.csv', index=False)"
   ]
  }
 ],
 "metadata": {
  "kernelspec": {
   "display_name": "base",
   "language": "python",
   "name": "python3"
  },
  "language_info": {
   "codemirror_mode": {
    "name": "ipython",
    "version": 3
   },
   "file_extension": ".py",
   "mimetype": "text/x-python",
   "name": "python",
   "nbconvert_exporter": "python",
   "pygments_lexer": "ipython3",
   "version": "3.12.7"
  }
 },
 "nbformat": 4,
 "nbformat_minor": 5
}
