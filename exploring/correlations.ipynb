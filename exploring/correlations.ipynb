{
 "cells": [
  {
   "cell_type": "markdown",
   "id": "41ff5856",
   "metadata": {},
   "source": [
    "#### Exploring Which Dataset to Use"
   ]
  },
  {
   "cell_type": "code",
   "execution_count": null,
   "id": "36142e2f",
   "metadata": {},
   "outputs": [],
   "source": [
    "import pandas as pd\n",
    "import os\n",
    "import numpy as np\n",
    "from difflib import get_close_matches\n",
    "\n",
    "os.chdir('C:/Users/dalto/OneDrive/Pictures/Documents/Projects/Coding Projects/woba modeling/data/')"
   ]
  },
  {
   "cell_type": "markdown",
   "id": "46f90a1f",
   "metadata": {},
   "source": [
    "#### Load Data"
   ]
  },
  {
   "cell_type": "code",
   "execution_count": 67,
   "id": "bfb47027",
   "metadata": {},
   "outputs": [],
   "source": [
    "m1_woba = pd.read_csv('sim_results/m1_wobacon_23_25.csv')\n",
    "m2_woba = pd.read_csv('sim_results/m2_wobacon_23_25.csv')\n",
    "woba = pd.read_csv('pitch/savant.csv')"
   ]
  },
  {
   "cell_type": "markdown",
   "id": "ece7e506",
   "metadata": {},
   "source": [
    "#### Correlations"
   ]
  },
  {
   "cell_type": "code",
   "execution_count": 69,
   "id": "af699762",
   "metadata": {},
   "outputs": [],
   "source": [
    "merged = woba.merge(m1_woba[['name', 'year', 'count', 'monte']], on=['name', 'year'], how='right', suffixes=('', '_m1'))\n",
    "merged = merged.merge(m2_woba[['name', 'year', 'count', 'monte']], on=['name', 'year'], how='right', suffixes=('', '_m2'))\n",
    "merged = merged.rename(columns={'count': 'count_m1', 'monte': 'm1_monte', 'count_m2': 'count_m2', 'monte_m2': 'm2_monte'})"
   ]
  },
  {
   "cell_type": "code",
   "execution_count": 70,
   "id": "c23eb09c",
   "metadata": {},
   "outputs": [],
   "source": [
    "missing_names = merged[merged.isnull().any(axis=1)]['name'].unique()\n",
    "existing_names = merged[~merged.isnull().any(axis=1)]['name'].unique()\n",
    "\n",
    "name_map = {}\n",
    "for name in missing_names:\n",
    "    matches = get_close_matches(name, existing_names, n=1, cutoff=0.75)\n",
    "    if matches:\n",
    "        name_map[name] = matches[0]\n",
    "\n",
    "del name_map['aramis garcia']\n",
    "del name_map['zack collins']\n"
   ]
  },
  {
   "cell_type": "code",
   "execution_count": 71,
   "id": "14cca07e",
   "metadata": {},
   "outputs": [],
   "source": [
    "for missing_name, matched_name in name_map.items():\n",
    "    idx_missing = merged[(merged['name'] == missing_name) & (merged.isnull().any(axis=1))].index\n",
    "    for idx in idx_missing:\n",
    "        year = merged.loc[idx, 'year']\n",
    "        match_row = merged[(merged['name'] == matched_name) & (merged['year'] == year) & (~merged.isnull().any(axis=1))]\n",
    "        if not match_row.empty:\n",
    "            for col in merged.columns:\n",
    "                if pd.isnull(merged.at[idx, col]):\n",
    "                    merged.at[idx, col] = match_row.iloc[0][col]"
   ]
  },
  {
   "cell_type": "code",
   "execution_count": 72,
   "id": "43cee9d7",
   "metadata": {},
   "outputs": [],
   "source": [
    "merged = merged[['name', 'year', 'm1_monte', 'm2_monte', 'wobacon', 'xwobacon', 'pa']]"
   ]
  },
  {
   "cell_type": "code",
   "execution_count": 73,
   "id": "ffad7028",
   "metadata": {},
   "outputs": [],
   "source": [
    "merged = merged[merged['pa'] > 50]"
   ]
  },
  {
   "cell_type": "markdown",
   "id": "45ffcc7e",
   "metadata": {},
   "source": [
    "#### Correlation"
   ]
  },
  {
   "cell_type": "markdown",
   "id": "bb8f68be",
   "metadata": {},
   "source": [
    "stability"
   ]
  },
  {
   "cell_type": "code",
   "execution_count": 74,
   "id": "14192578",
   "metadata": {},
   "outputs": [
    {
     "name": "stdout",
     "output_type": "stream",
     "text": [
      "{'m1_monte': 0.7366470579840835, 'm2_monte': 0.8213546740863039, 'wobacon': 0.3637345842745023, 'xwobacon': 0.6119147654085051}\n"
     ]
    }
   ],
   "source": [
    "stats = ['m1_monte', 'm2_monte', 'wobacon', 'xwobacon']\n",
    "corr_next = merged.copy()\n",
    "\n",
    "for stat in stats:\n",
    "    corr_next[f'{stat}_next'] = corr_next.groupby('name')[stat].shift(-1)\n",
    "\n",
    "corr_next = corr_next.dropna(subset=[f'{stat}_next' for stat in stats])\n",
    "\n",
    "corrs = {}\n",
    "for stat in stats:\n",
    "    corrs[stat] = corr_next[[stat, f'{stat}_next']].corr().iloc[0, 1]\n",
    "\n",
    "print(corrs)"
   ]
  },
  {
   "cell_type": "markdown",
   "id": "ec533830",
   "metadata": {},
   "source": [
    "dataset to next year wobacon"
   ]
  },
  {
   "cell_type": "code",
   "execution_count": 76,
   "id": "3deb9927",
   "metadata": {},
   "outputs": [
    {
     "name": "stdout",
     "output_type": "stream",
     "text": [
      "{'m1_monte': 0.48053778700640043, 'm2_monte': 0.4812626747032464, 'wobacon': 0.3637345842745023, 'xwobacon': 0.48420167040204526}\n"
     ]
    }
   ],
   "source": [
    "prev_stat_next_woba_corr = {}\n",
    "for stat in stats:\n",
    "    prev_stat_next_woba_corr[stat] = corr_next[[stat, 'wobacon_next']].corr().iloc[0, 1]\n",
    "\n",
    "print(prev_stat_next_woba_corr)"
   ]
  },
  {
   "cell_type": "markdown",
   "id": "fa3a813a",
   "metadata": {},
   "source": [
    "2023 stat to 2024 wobacon"
   ]
  },
  {
   "cell_type": "code",
   "execution_count": 77,
   "id": "229d5438",
   "metadata": {},
   "outputs": [
    {
     "name": "stdout",
     "output_type": "stream",
     "text": [
      "{'m1_monte': 0.450303028626735, 'm2_monte': 0.4959605353871911, 'wobacon': 0.3358929656530977, 'xwobacon': 0.46863996503932354}\n"
     ]
    }
   ],
   "source": [
    "stat_2024_to_2025_woba_corr = {}\n",
    "df_2024 = corr_next[corr_next['year'] == 2023]\n",
    "for stat in stats:\n",
    "    stat_2024_to_2025_woba_corr[stat] = df_2024[[stat, 'wobacon_next']].corr().iloc[0, 1]\n",
    "\n",
    "print(stat_2024_to_2025_woba_corr)"
   ]
  },
  {
   "cell_type": "markdown",
   "id": "23886df1",
   "metadata": {},
   "source": [
    "2024 stat to 2025 wobacon"
   ]
  },
  {
   "cell_type": "code",
   "execution_count": 78,
   "id": "2e3e83da",
   "metadata": {},
   "outputs": [
    {
     "name": "stdout",
     "output_type": "stream",
     "text": [
      "{'m1_monte': 0.51724618052589, 'm2_monte': 0.46735983393446834, 'wobacon': 0.4012127582723429, 'xwobacon': 0.5061996175636763}\n"
     ]
    }
   ],
   "source": [
    "stat_2024_to_2025_woba_corr = {}\n",
    "df_2024 = corr_next[corr_next['year'] == 2024]\n",
    "for stat in stats:\n",
    "    stat_2024_to_2025_woba_corr[stat] = df_2024[[stat, 'wobacon_next']].corr().iloc[0, 1]\n",
    "\n",
    "print(stat_2024_to_2025_woba_corr)"
   ]
  }
 ],
 "metadata": {
  "kernelspec": {
   "display_name": "base",
   "language": "python",
   "name": "python3"
  },
  "language_info": {
   "codemirror_mode": {
    "name": "ipython",
    "version": 3
   },
   "file_extension": ".py",
   "mimetype": "text/x-python",
   "name": "python",
   "nbconvert_exporter": "python",
   "pygments_lexer": "ipython3",
   "version": "3.12.7"
  }
 },
 "nbformat": 4,
 "nbformat_minor": 5
}
