{
 "cells": [
  {
   "cell_type": "markdown",
   "id": "41ff5856",
   "metadata": {},
   "source": [
    "#### Exploring Which Dataset to Use"
   ]
  },
  {
   "cell_type": "code",
   "execution_count": 1,
   "id": "36142e2f",
   "metadata": {},
   "outputs": [],
   "source": [
    "import pandas as pd\n",
    "import os\n",
    "import numpy as np\n",
    "from difflib import get_close_matches\n",
    "\n",
    "os.chdir('C:/Users/dalto/OneDrive/Pictures/Documents/Projects/Coding Projects/woba modeling/data/')"
   ]
  },
  {
   "cell_type": "markdown",
   "id": "46f90a1f",
   "metadata": {},
   "source": [
    "#### Load Data"
   ]
  },
  {
   "cell_type": "code",
   "execution_count": 2,
   "id": "bfb47027",
   "metadata": {},
   "outputs": [],
   "source": [
    "m1_woba = pd.read_csv('sim_results/m1_wobacon_23_25.csv')\n",
    "m2_woba = pd.read_csv('sim_results/m2_wobacon_23_25.csv')\n",
    "ev_dir = pd.read_csv('sim_results/ev_wobacon_23_25.csv')\n",
    "full = pd.read_csv('transforms/wobacon.csv')\n",
    "woba = pd.read_csv('pitch/savant.csv')"
   ]
  },
  {
   "cell_type": "markdown",
   "id": "ece7e506",
   "metadata": {},
   "source": [
    "#### Correlations"
   ]
  },
  {
   "cell_type": "code",
   "execution_count": 34,
   "id": "af699762",
   "metadata": {},
   "outputs": [],
   "source": [
    "merged = woba.merge(full[['name', 'year', 'count', 'monte']], on=['name', 'year'], how='right')\n",
    "# merged = merged.merge(ev_dir[['name', 'year', 'monte']], on = ['name', 'year'], how='right', suffixes=('', '_ev'))\n",
    "# merged = merged.merge(m2_woba[['name', 'year', 'count', 'monte']], on=['name', 'year'], how='right', suffixes=('', '_m2'))\n",
    "# merged = merged.rename(columns={'count': 'count_m1', 'monte': 'm1_monte', 'count_m2': 'count_m2', 'monte_m2': 'm2_monte'})"
   ]
  },
  {
   "cell_type": "code",
   "execution_count": 35,
   "id": "c23eb09c",
   "metadata": {},
   "outputs": [],
   "source": [
    "missing_names = merged[merged.isnull().any(axis=1)]['name'].unique()\n",
    "existing_names = merged[~merged.isnull().any(axis=1)]['name'].unique()\n",
    "\n",
    "name_map = {}\n",
    "for name in missing_names:\n",
    "    matches = get_close_matches(name, existing_names, n=1, cutoff=0.8)\n",
    "    if matches:\n",
    "        name_map[name] = matches[0]\n",
    "\n"
   ]
  },
  {
   "cell_type": "code",
   "execution_count": 36,
   "id": "14cca07e",
   "metadata": {},
   "outputs": [],
   "source": [
    "for missing_name, matched_name in name_map.items():\n",
    "    idx_missing = merged[(merged['name'] == missing_name) & (merged.isnull().any(axis=1))].index\n",
    "    for idx in idx_missing:\n",
    "        year = merged.loc[idx, 'year']\n",
    "        match_row = merged[(merged['name'] == matched_name) & (merged['year'] == year) & (~merged.isnull().any(axis=1))]\n",
    "        if not match_row.empty:\n",
    "            for col in merged.columns:\n",
    "                if pd.isnull(merged.at[idx, col]):\n",
    "                    merged.at[idx, col] = match_row.iloc[0][col]"
   ]
  },
  {
   "cell_type": "code",
   "execution_count": 37,
   "id": "43cee9d7",
   "metadata": {},
   "outputs": [],
   "source": [
    "merged = merged[['name', 'year', 'monte', 'wobacon', 'xwobacon', 'pa', 'count']]"
   ]
  },
  {
   "cell_type": "code",
   "execution_count": 38,
   "id": "ffad7028",
   "metadata": {},
   "outputs": [],
   "source": [
    "merged = merged[merged['count'] > 60]"
   ]
  },
  {
   "cell_type": "markdown",
   "id": "45ffcc7e",
   "metadata": {},
   "source": [
    "#### Correlation"
   ]
  },
  {
   "cell_type": "markdown",
   "id": "bb8f68be",
   "metadata": {},
   "source": [
    "stability"
   ]
  },
  {
   "cell_type": "code",
   "execution_count": 39,
   "id": "14192578",
   "metadata": {},
   "outputs": [
    {
     "name": "stdout",
     "output_type": "stream",
     "text": [
      "{'monte': 0.558718178723602, 'wobacon': 0.14716458742065097, 'xwobacon': 0.4201046749808671}\n"
     ]
    }
   ],
   "source": [
    "stats = ['monte', 'wobacon', 'xwobacon']\n",
    "corr_next = merged.copy()\n",
    "\n",
    "for stat in stats:\n",
    "    corr_next[f'{stat}_next'] = corr_next.groupby('name')[stat].shift(-1)\n",
    "\n",
    "corr_next = corr_next.dropna(subset=[f'{stat}_next' for stat in stats])\n",
    "\n",
    "corrs = {}\n",
    "for stat in stats:\n",
    "    corrs[stat] = corr_next[[stat, f'{stat}_next']].corr().iloc[0, 1]\n",
    "    corrs[stat] = corrs[stat] ** 2\n",
    "\n",
    "print(corrs)"
   ]
  },
  {
   "cell_type": "markdown",
   "id": "ec533830",
   "metadata": {},
   "source": [
    "dataset to next year wobacon"
   ]
  },
  {
   "cell_type": "code",
   "execution_count": 40,
   "id": "3deb9927",
   "metadata": {},
   "outputs": [
    {
     "name": "stdout",
     "output_type": "stream",
     "text": [
      "{'monte': 0.2819980904367422, 'wobacon': 0.14716458742065097, 'xwobacon': 0.2531463954231565}\n"
     ]
    }
   ],
   "source": [
    "prev_stat_next_woba_corr = {}\n",
    "for stat in stats:\n",
    "    prev_stat_next_woba_corr[stat] = corr_next[[stat, 'wobacon_next']].corr().iloc[0, 1]\n",
    "    prev_stat_next_woba_corr[stat] = prev_stat_next_woba_corr[stat] ** 2\n",
    "\n",
    "print(prev_stat_next_woba_corr)"
   ]
  },
  {
   "cell_type": "markdown",
   "id": "fa3a813a",
   "metadata": {},
   "source": [
    "2023 stat to 2024 wobacon"
   ]
  },
  {
   "cell_type": "code",
   "execution_count": 41,
   "id": "229d5438",
   "metadata": {},
   "outputs": [
    {
     "name": "stdout",
     "output_type": "stream",
     "text": [
      "{'monte': 0.28175017271054587, 'wobacon': 0.1396256367051462, 'xwobacon': 0.260914572190645}\n"
     ]
    }
   ],
   "source": [
    "stat_2024_to_2025_woba_corr = {}\n",
    "df_2024 = corr_next[corr_next['year'] == 2023]\n",
    "for stat in stats:\n",
    "    stat_2024_to_2025_woba_corr[stat] = df_2024[[stat, 'wobacon_next']].corr().iloc[0, 1]\n",
    "    stat_2024_to_2025_woba_corr[stat] = stat_2024_to_2025_woba_corr[stat] ** 2\n",
    "\n",
    "print(stat_2024_to_2025_woba_corr)"
   ]
  },
  {
   "cell_type": "markdown",
   "id": "23886df1",
   "metadata": {},
   "source": [
    "2024 stat to 2025 wobacon"
   ]
  },
  {
   "cell_type": "code",
   "execution_count": 42,
   "id": "2e3e83da",
   "metadata": {},
   "outputs": [
    {
     "name": "stdout",
     "output_type": "stream",
     "text": [
      "{'monte': 0.28845990185641834, 'wobacon': 0.16529401828753343, 'xwobacon': 0.25630883183791486}\n"
     ]
    }
   ],
   "source": [
    "stat_2024_to_2025_woba_corr = {}\n",
    "df_2024 = corr_next[corr_next['year'] == 2024]\n",
    "for stat in stats:\n",
    "    stat_2024_to_2025_woba_corr[stat] = df_2024[[stat, 'wobacon_next']].corr().iloc[0, 1]\n",
    "    stat_2024_to_2025_woba_corr[stat] = stat_2024_to_2025_woba_corr[stat] ** 2\n",
    "\n",
    "print(stat_2024_to_2025_woba_corr)"
   ]
  },
  {
   "cell_type": "markdown",
   "id": "d3e0f29c",
   "metadata": {},
   "source": [
    "xwobacon to monte"
   ]
  },
  {
   "cell_type": "code",
   "execution_count": 43,
   "id": "e82d1ea2",
   "metadata": {},
   "outputs": [
    {
     "name": "stdout",
     "output_type": "stream",
     "text": [
      "0.901786239367908\n",
      "0.7549035825042856\n",
      "0.8191918149251566\n"
     ]
    }
   ],
   "source": [
    "print(merged['monte'].corr(merged['xwobacon']))\n",
    "print(merged['monte'].corr(merged['wobacon']))\n",
    "print(merged['wobacon'].corr(merged['xwobacon']))\n"
   ]
  },
  {
   "cell_type": "markdown",
   "id": "28f54ce4",
   "metadata": {},
   "source": [
    "#### Diffrences"
   ]
  },
  {
   "cell_type": "code",
   "execution_count": 45,
   "id": "abf6cf0c",
   "metadata": {},
   "outputs": [
    {
     "name": "stdout",
     "output_type": "stream",
     "text": [
      "906     0.163007\n",
      "1695    0.098439\n",
      "250     0.097923\n",
      "876     0.088361\n",
      "747     0.087013\n",
      "1357    0.084943\n",
      "1632    0.083621\n",
      "1944    0.083390\n",
      "1663    0.083389\n",
      "940     0.082204\n",
      "Name: diff, dtype: float64\n"
     ]
    }
   ],
   "source": [
    "merged['diff'] = abs(merged['monte'] - merged['xwobacon'])\n",
    "print(merged['diff'].nlargest(10))"
   ]
  }
 ],
 "metadata": {
  "kernelspec": {
   "display_name": "base",
   "language": "python",
   "name": "python3"
  },
  "language_info": {
   "codemirror_mode": {
    "name": "ipython",
    "version": 3
   },
   "file_extension": ".py",
   "mimetype": "text/x-python",
   "name": "python",
   "nbconvert_exporter": "python",
   "pygments_lexer": "ipython3",
   "version": "3.12.7"
  }
 },
 "nbformat": 4,
 "nbformat_minor": 5
}
