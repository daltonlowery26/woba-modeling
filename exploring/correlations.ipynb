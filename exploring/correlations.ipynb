{
 "cells": [
  {
   "cell_type": "markdown",
   "id": "41ff5856",
   "metadata": {},
   "source": [
    "#### Exploring Which Dataset to Use"
   ]
  },
  {
   "cell_type": "code",
   "execution_count": 1,
   "id": "36142e2f",
   "metadata": {},
   "outputs": [],
   "source": [
    "import pandas as pd\n",
    "import os\n",
    "import numpy as np\n",
    "from difflib import get_close_matches\n",
    "\n",
    "os.chdir('C:/Users/dalto/OneDrive/Pictures/Documents/Projects/Coding Projects/woba modeling/data/')"
   ]
  },
  {
   "cell_type": "markdown",
   "id": "46f90a1f",
   "metadata": {},
   "source": [
    "#### Load Data"
   ]
  },
  {
   "cell_type": "code",
   "execution_count": 2,
   "id": "bfb47027",
   "metadata": {},
   "outputs": [],
   "source": [
    "m1_woba = pd.read_csv('sim_results/m1_wobacon_23_25.csv')\n",
    "m2_woba = pd.read_csv('sim_results/m2_wobacon_23_25.csv')\n",
    "ev_dir = pd.read_csv('sim_results/ev_wobacon_23_25.csv')\n",
    "full = pd.read_csv('transforms/wobacon.csv')\n",
    "woba = pd.read_csv('pitch/woba/savant.csv')"
   ]
  },
  {
   "cell_type": "markdown",
   "id": "ece7e506",
   "metadata": {},
   "source": [
    "#### Correlations"
   ]
  },
  {
   "cell_type": "code",
   "execution_count": 3,
   "id": "af699762",
   "metadata": {},
   "outputs": [],
   "source": [
    "merged = woba.merge(full[['name', 'year', 'count', 'monte']], on=['name', 'year'], how='right')\n",
    "merged = merged.merge(ev_dir[['name', 'year', 'monte']], on =  ['name', 'year'], how='right', suffixes=[\"\", \"_ev\"])\n",
    "# merged = merged.merge(ev_dir[['name', 'year', 'monte']], on = ['name', 'year'], how='right', suffixes=('', '_ev'))\n",
    "# merged = merged.merge(m2_woba[['name', 'year', 'count', 'monte']], on=['name', 'year'], how='right', suffixes=('', '_m2'))\n",
    "# merged = merged.rename(columns={'count': 'count_m1', 'monte': 'm1_monte', 'count_m2': 'count_m2', 'monte_m2': 'm2_monte'})"
   ]
  },
  {
   "cell_type": "code",
   "execution_count": 4,
   "id": "c23eb09c",
   "metadata": {},
   "outputs": [],
   "source": [
    "missing_names = merged[merged.isnull().any(axis=1)]['name'].unique()\n",
    "existing_names = merged[~merged.isnull().any(axis=1)]['name'].unique()\n",
    "\n",
    "name_map = {}\n",
    "for name in missing_names:\n",
    "    matches = get_close_matches(name, existing_names, n=1, cutoff=0.8)\n",
    "    if matches:\n",
    "        name_map[name] = matches[0]\n",
    "\n"
   ]
  },
  {
   "cell_type": "code",
   "execution_count": 5,
   "id": "14cca07e",
   "metadata": {},
   "outputs": [],
   "source": [
    "for missing_name, matched_name in name_map.items():\n",
    "    idx_missing = merged[(merged['name'] == missing_name) & (merged.isnull().any(axis=1))].index\n",
    "    for idx in idx_missing:\n",
    "        year = merged.loc[idx, 'year']\n",
    "        match_row = merged[(merged['name'] == matched_name) & (merged['year'] == year) & (~merged.isnull().any(axis=1))]\n",
    "        if not match_row.empty:\n",
    "            for col in merged.columns:\n",
    "                if pd.isnull(merged.at[idx, col]):\n",
    "                    merged.at[idx, col] = match_row.iloc[0][col]"
   ]
  },
  {
   "cell_type": "code",
   "execution_count": 6,
   "id": "43cee9d7",
   "metadata": {},
   "outputs": [],
   "source": [
    "merged = merged[['name', 'year', 'monte','wobacon', 'xwobacon', 'pa', 'count']]"
   ]
  },
  {
   "cell_type": "code",
   "execution_count": 7,
   "id": "ffad7028",
   "metadata": {},
   "outputs": [],
   "source": [
    "merged = merged[merged['count'] > 60]"
   ]
  },
  {
   "cell_type": "markdown",
   "id": "45ffcc7e",
   "metadata": {},
   "source": [
    "#### Correlation"
   ]
  },
  {
   "cell_type": "markdown",
   "id": "bb8f68be",
   "metadata": {},
   "source": [
    "stability"
   ]
  },
  {
   "cell_type": "code",
   "execution_count": 8,
   "id": "14192578",
   "metadata": {},
   "outputs": [
    {
     "name": "stdout",
     "output_type": "stream",
     "text": [
      "{'monte': 0.5949524005378153, 'wobacon': 0.1492282838393763, 'xwobacon': 0.42430711474986027}\n"
     ]
    }
   ],
   "source": [
    "stats = ['monte', 'wobacon', 'xwobacon']\n",
    "corr_next = merged.copy()\n",
    "\n",
    "for stat in stats:\n",
    "    corr_next[f'{stat}_next'] = corr_next.groupby('name')[stat].shift(-1)\n",
    "\n",
    "corr_next = corr_next.dropna(subset=[f'{stat}_next' for stat in stats])\n",
    "\n",
    "corrs = {}\n",
    "for stat in stats:\n",
    "    corrs[stat] = corr_next[[stat, f'{stat}_next']].corr().iloc[0, 1]\n",
    "    corrs[stat] = corrs[stat] ** 2\n",
    "\n",
    "print(corrs)"
   ]
  },
  {
   "cell_type": "markdown",
   "id": "ec533830",
   "metadata": {},
   "source": [
    "dataset to next year wobacon"
   ]
  },
  {
   "cell_type": "code",
   "execution_count": 9,
   "id": "3deb9927",
   "metadata": {},
   "outputs": [
    {
     "name": "stdout",
     "output_type": "stream",
     "text": [
      "{'monte': 0.5487283011118765, 'wobacon': 0.3863007686238487, 'xwobacon': 0.507934559672309}\n"
     ]
    }
   ],
   "source": [
    "prev_stat_next_woba_corr = {}\n",
    "for stat in stats:\n",
    "    prev_stat_next_woba_corr[stat] = corr_next[[stat, 'wobacon_next']].corr().iloc[0, 1]\n",
    "    prev_stat_next_woba_corr[stat] = prev_stat_next_woba_corr[stat]\n",
    "\n",
    "print(prev_stat_next_woba_corr)"
   ]
  },
  {
   "cell_type": "markdown",
   "id": "fa3a813a",
   "metadata": {},
   "source": [
    "2023 stat to 2024 wobacon"
   ]
  },
  {
   "cell_type": "code",
   "execution_count": 10,
   "id": "229d5438",
   "metadata": {},
   "outputs": [
    {
     "name": "stdout",
     "output_type": "stream",
     "text": [
      "{'monte': 0.31056958940795243, 'wobacon': 0.13912817118964124, 'xwobacon': 0.25991914300966396}\n"
     ]
    }
   ],
   "source": [
    "stat_2024_to_2025_woba_corr = {}\n",
    "df_2024 = corr_next[corr_next['year'] == 2023]\n",
    "for stat in stats:\n",
    "    stat_2024_to_2025_woba_corr[stat] = df_2024[[stat, 'wobacon_next']].corr().iloc[0, 1]\n",
    "    stat_2024_to_2025_woba_corr[stat] = stat_2024_to_2025_woba_corr[stat] ** 2\n",
    "\n",
    "print(stat_2024_to_2025_woba_corr)"
   ]
  },
  {
   "cell_type": "markdown",
   "id": "23886df1",
   "metadata": {},
   "source": [
    "2024 stat to 2025 wobacon"
   ]
  },
  {
   "cell_type": "code",
   "execution_count": 11,
   "id": "2e3e83da",
   "metadata": {},
   "outputs": [
    {
     "name": "stdout",
     "output_type": "stream",
     "text": [
      "{'monte': 0.2966551270304057, 'wobacon': 0.1684289757701312, 'xwobacon': 0.2658291906779023}\n"
     ]
    }
   ],
   "source": [
    "stat_2024_to_2025_woba_corr = {}\n",
    "df_2024 = corr_next[corr_next['year'] == 2024]\n",
    "for stat in stats:\n",
    "    stat_2024_to_2025_woba_corr[stat] = df_2024[[stat, 'wobacon_next']].corr().iloc[0, 1]\n",
    "    stat_2024_to_2025_woba_corr[stat] = stat_2024_to_2025_woba_corr[stat] ** 2\n",
    "\n",
    "print(stat_2024_to_2025_woba_corr)"
   ]
  },
  {
   "cell_type": "markdown",
   "id": "d3e0f29c",
   "metadata": {},
   "source": [
    "xwobacon to monte"
   ]
  },
  {
   "cell_type": "code",
   "execution_count": 12,
   "id": "e82d1ea2",
   "metadata": {},
   "outputs": [
    {
     "name": "stdout",
     "output_type": "stream",
     "text": [
      "0.9056288434867004\n",
      "0.7365518225141752\n",
      "0.8181850330996727\n"
     ]
    }
   ],
   "source": [
    "print(merged['monte'].corr(merged['xwobacon']))\n",
    "print(merged['monte'].corr(merged['wobacon']))\n",
    "print(merged['wobacon'].corr(merged['xwobacon']))\n"
   ]
  },
  {
   "cell_type": "markdown",
   "id": "28f54ce4",
   "metadata": {},
   "source": [
    "#### Diffrences"
   ]
  },
  {
   "cell_type": "code",
   "execution_count": 13,
   "id": "abf6cf0c",
   "metadata": {},
   "outputs": [
    {
     "name": "stdout",
     "output_type": "stream",
     "text": [
      "906     0.161834\n",
      "145     0.118892\n",
      "1695    0.104817\n",
      "1331    0.095451\n",
      "1357    0.095292\n",
      "1642    0.092242\n",
      "250     0.092216\n",
      "248     0.089697\n",
      "1390    0.088653\n",
      "940     0.083844\n",
      "Name: diff, dtype: float64\n"
     ]
    }
   ],
   "source": [
    "merged['diff'] = abs(merged['monte'] - merged['xwobacon'])\n",
    "print(merged['diff'].nlargest(10))"
   ]
  },
  {
   "cell_type": "code",
   "execution_count": 15,
   "id": "0ac184c8",
   "metadata": {},
   "outputs": [],
   "source": [
    "merged = merged[['name', 'year', 'monte', 'wobacon', 'xwobacon', 'diff']]\n",
    "merged.to_excel('model.xlsx')"
   ]
  }
 ],
 "metadata": {
  "kernelspec": {
   "display_name": "base",
   "language": "python",
   "name": "python3"
  },
  "language_info": {
   "codemirror_mode": {
    "name": "ipython",
    "version": 3
   },
   "file_extension": ".py",
   "mimetype": "text/x-python",
   "name": "python",
   "nbconvert_exporter": "python",
   "pygments_lexer": "ipython3",
   "version": "3.12.7"
  }
 },
 "nbformat": 4,
 "nbformat_minor": 5
}
