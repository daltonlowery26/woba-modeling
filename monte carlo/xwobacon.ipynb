{
 "cells": [
  {
   "cell_type": "markdown",
   "id": "deec08de",
   "metadata": {},
   "source": [
    "#### Calculating the Expected Value"
   ]
  },
  {
   "cell_type": "code",
   "execution_count": 54,
   "id": "7f6c39c2",
   "metadata": {},
   "outputs": [],
   "source": [
    "import pandas as pd\n",
    "import os \n",
    "import numpy as np\n",
    "from scipy.interpolate import interp1d\n",
    "\n",
    "os.chdir('C:/Users/dalto/OneDrive/Pictures/Documents/Projects/Coding Projects/woba modeling/data/')"
   ]
  },
  {
   "cell_type": "markdown",
   "id": "f72ed47d",
   "metadata": {},
   "source": [
    "#### Load Data"
   ]
  },
  {
   "cell_type": "code",
   "execution_count": 55,
   "id": "0d2a0a34",
   "metadata": {},
   "outputs": [],
   "source": [
    "bat_tracking = pd.read_csv('quantile_predections/bat_tracking_pitch.csv').drop(columns=['Unnamed: 0'])\n",
    "ev_direction = pd.read_csv('quantile_predections/ev_direction_pitch.csv').drop(columns=['Unnamed: 0'])\n",
    "ev_direction = ev_direction[ev_direction['year'] >=2023]"
   ]
  },
  {
   "cell_type": "markdown",
   "id": "f9340806",
   "metadata": {},
   "source": [
    "#### Sims"
   ]
  },
  {
   "cell_type": "code",
   "execution_count": 56,
   "id": "49834362",
   "metadata": {},
   "outputs": [],
   "source": [
    "def expected_value(row):\n",
    "\n",
    "    quantile_cols = [col for col in row.index if col.startswith('q_')]\n",
    "    quantiles = [float(col.split('_')[1]) for col in quantile_cols]\n",
    "    values = row[quantile_cols].values\n",
    "\n",
    "    cdf_quantiles = np.concatenate(([0], quantiles, [1]))\n",
    "    min_val = values[0] - (values[1] - values[0])\n",
    "    max_val = values[-1] + (values[-1] - values[-2])\n",
    "    cdf_values = np.concatenate(([min_val], values, [max_val]))\n",
    "\n",
    "    diff_cdf_values = np.diff(cdf_values)\n",
    "    epsilon = 1e-8\n",
    "    diff_cdf_values = np.where(diff_cdf_values == 0, epsilon, diff_cdf_values)\n",
    "    pdf_densities = np.diff(cdf_quantiles) / diff_cdf_values\n",
    "\n",
    "    v_i = cdf_values[:-1]\n",
    "    v_i_plus_1 = cdf_values[1:]\n",
    "\n",
    "    expected_value = np.sum(pdf_densities * (v_i_plus_1**2 - v_i**2) / 2)\n",
    "    return expected_value\n"
   ]
  },
  {
   "cell_type": "code",
   "execution_count": 57,
   "id": "c84950ef",
   "metadata": {},
   "outputs": [],
   "source": [
    "def monte_carlo(row, sims=100000):\n",
    "    quantile_cols = [col for col in row.index if col.startswith('q_')]\n",
    "    quantiles = [float(col.split('_')[1]) for col in quantile_cols]\n",
    "    values = row[quantile_cols].values\n",
    "\n",
    "    cdf_quantiles = np.concatenate(([0], quantiles, [1]))\n",
    "    min_val = values[0] - (values[1] - values[0])\n",
    "    max_val = values[-1] + (values[-1] - values[-2])\n",
    "    cdf_values = np.concatenate(([min_val], values, [max_val]))\n",
    "\n",
    "    ppf_func = interp1d(cdf_quantiles, cdf_values, kind = 'cubic', bounds_error=False, fill_value=(min_val, max_val))\n",
    "\n",
    "    random_quantiles = np.random.rand(sims)\n",
    "    samples = ppf_func(random_quantiles)\n",
    "    \n",
    "    estimated_ev = np.mean(samples)\n",
    "\n",
    "    return estimated_ev\n"
   ]
  },
  {
   "cell_type": "markdown",
   "id": "57864c2c",
   "metadata": {},
   "source": [
    "#### Running Sims"
   ]
  },
  {
   "cell_type": "code",
   "execution_count": 58,
   "id": "12620937",
   "metadata": {},
   "outputs": [],
   "source": [
    "ev_direction['monte'] = ev_direction.apply(monte_carlo, axis=1)"
   ]
  },
  {
   "cell_type": "code",
   "execution_count": 59,
   "id": "5d210ba8",
   "metadata": {},
   "outputs": [],
   "source": [
    "bat_tracking['monte'] = bat_tracking.apply(monte_carlo, axis=1)"
   ]
  },
  {
   "cell_type": "code",
   "execution_count": null,
   "id": "a0fc3628",
   "metadata": {},
   "outputs": [],
   "source": [
    "player_mean_ev = ev_direction.groupby(['name', 'year'])['monte'].mean().reset_index(name='monte')\n",
    "player_count_ev = ev_direction.groupby(['name', 'year']).size().reset_index(name='count')\n",
    "player_mean_bat = bat_tracking.groupby(['name', 'year'])['monte'].mean().reset_index(name='monte')\n",
    "player_count_bat = bat_tracking.groupby(['name', 'year']).size().reset_index(name='count')"
   ]
  },
  {
   "cell_type": "code",
   "execution_count": 61,
   "id": "cdbee456",
   "metadata": {},
   "outputs": [],
   "source": [
    "player = pd.merge(player_mean_ev, player_count_ev, on=['name', 'year'])\n",
    "player = pd.merge(player, player_mean_bat, on=['name', 'year'])\n",
    "player = player.rename(columns={'monte_x':'ev_dir','monte_y':'bat_tracking'})"
   ]
  },
  {
   "cell_type": "code",
   "execution_count": null,
   "id": "8e03f8ed",
   "metadata": {},
   "outputs": [],
   "source": [
    "player.to_csv('sim_results/wobacon_23_25.csv')"
   ]
  }
 ],
 "metadata": {
  "kernelspec": {
   "display_name": "base",
   "language": "python",
   "name": "python3"
  },
  "language_info": {
   "codemirror_mode": {
    "name": "ipython",
    "version": 3
   },
   "file_extension": ".py",
   "mimetype": "text/x-python",
   "name": "python",
   "nbconvert_exporter": "python",
   "pygments_lexer": "ipython3",
   "version": "3.12.7"
  }
 },
 "nbformat": 4,
 "nbformat_minor": 5
}
